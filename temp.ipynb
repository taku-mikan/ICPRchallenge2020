{
 "cells": [
  {
   "cell_type": "code",
   "execution_count": 1,
   "metadata": {},
   "outputs": [
    {
     "name": "stdout",
     "output_type": "stream",
     "text": [
      "000001\n",
      "000002\n",
      "000003\n",
      "000004\n",
      "000005\n",
      "000006\n",
      "000007\n",
      "000008\n",
      "000009\n",
      "000010\n"
     ]
    }
   ],
   "source": [
    "for i in range(10):\n",
    "    print(\"{0:06d}\".format(i+1))"
   ]
  },
  {
   "cell_type": "code",
   "execution_count": null,
   "metadata": {},
   "outputs": [],
   "source": [
    "import numpy as np\n",
    "\n",
    "\n",
    " = np.load(os.path.join(root_dir, 'audio', 'folder_count.npy')).tolist()"
   ]
  }
 ],
 "metadata": {
  "interpreter": {
   "hash": "8d750b1d6ed462e38525a0d8227ea288a7ba227b11efc602a6a95ccdccaabf41"
  },
  "kernelspec": {
   "display_name": "Python 3.8.11 64-bit ('udemy': conda)",
   "language": "python",
   "name": "python3"
  },
  "language_info": {
   "codemirror_mode": {
    "name": "ipython",
    "version": 3
   },
   "file_extension": ".py",
   "mimetype": "text/x-python",
   "name": "python",
   "nbconvert_exporter": "python",
   "pygments_lexer": "ipython3",
   "version": "3.8.11"
  },
  "orig_nbformat": 4
 },
 "nbformat": 4,
 "nbformat_minor": 2
}
