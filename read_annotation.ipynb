{
 "cells": [
  {
   "cell_type": "code",
   "execution_count": null,
   "id": "c6f1f1b8",
   "metadata": {},
   "outputs": [],
   "source": [
    "import numpy as np\n",
    "import pandas as pd\n",
    "import librosa\n",
    "import librosa.display\n",
    "import matplotlib.pyplot as plt\n",
    "import seaborn as sns\n",
    "import IPython\n",
    "import IPython.display as ipd\n",
    "from scipy.io import wavfile\n",
    "import glob\n",
    "import os\n",
    "import json\n",
    "import shutil\n",
    "\n",
    "# 各種設定\n",
    "pd.options.display.max_columns=None\n",
    "%matplotlib inline"
   ]
  },
  {
   "cell_type": "code",
   "execution_count": null,
   "id": "44a9af7c",
   "metadata": {},
   "outputs": [],
   "source": [
    "# confirm the number of filess\n",
    "\n",
    "audio_path = \"./train/audio/\"\n",
    "view1_path = \"./train/view1/rgb/\"\n",
    "view2_path = \"./train/view2/rgb/\"\n",
    "view3_path = \"./train/view3/rgb/\"\n",
    "view4_path = \"./train/view4/rgb/\"\n",
    "\n",
    "# audio\n",
    "print(\"audio ; \", sum(os.path.isfile(os.path.join(audio_path,name)) for name in os.listdir(audio_path)))\n",
    "\n",
    "# view \n",
    "print(\"view1 ; \", sum(os.path.isfile(os.path.join(view1_path,name)) for name in os.listdir(view1_path)))\n",
    "print(\"view2 ; \", sum(os.path.isfile(os.path.join(view2_path,name)) for name in os.listdir(view2_path)))\n",
    "print(\"view3 ; \", sum(os.path.isfile(os.path.join(view3_path,name)) for name in os.listdir(view3_path)))\n",
    "print(\"view4 ; \", sum(os.path.isfile(os.path.join(view4_path,name)) for name in os.listdir(view4_path)))\n",
    "\n"
   ]
  },
  {
   "cell_type": "markdown",
   "id": "f4f40055",
   "metadata": {},
   "source": [
    "# 注釈ファイル(jsonファイル)の読み込み"
   ]
  },
  {
   "cell_type": "code",
   "execution_count": null,
   "id": "701f039a",
   "metadata": {},
   "outputs": [],
   "source": [
    "open_file = open(\"annotation.json\")\n",
    "\n",
    "# jsonファイルとして読み込む\n",
    "annotation_json = json.load(open_file)\n",
    "# 正しく読み込めているか確認\n",
    "print (len(annotation_json[\"annotations\"]))"
   ]
  },
  {
   "cell_type": "code",
   "execution_count": null,
   "id": "2ab86e55",
   "metadata": {},
   "outputs": [],
   "source": [
    "# 最初の10このデータの確認\n",
    "for i in range(10):\n",
    "    print('*'*25, 'data{}'.format(i), '*'*25)\n",
    "    print(annotation_json['annotations'][i])\n",
    "    print()"
   ]
  },
  {
   "cell_type": "markdown",
   "id": "68a1de5f",
   "metadata": {},
   "source": [
    "# pandasを使ってjsonファイルを読み込む"
   ]
  },
  {
   "cell_type": "code",
   "execution_count": null,
   "id": "3cd7a076",
   "metadata": {},
   "outputs": [],
   "source": [
    "df = pd.DataFrame(annotation_json[\"annotations\"])\n",
    "df.head()"
   ]
  },
  {
   "cell_type": "code",
   "execution_count": null,
   "id": "8e082b90",
   "metadata": {},
   "outputs": [],
   "source": [
    "folder = \"./train/audio/\"\n",
    "files = glob.glob(folder+\"*.wav\")\n",
    "\n",
    "files_view1 = sorted(glob.glob(\"./train/view1/rgb/*.mp4\"))\n",
    "files_view2 = sorted(glob.glob(\"./train/view2/rgb/*.mp4\"))\n",
    "files_view3 = sorted(glob.glob(\"./train/view3/rgb/*.mp4\"))\n",
    "files_view4 = sorted(glob.glob(\"./train/view4/rgb/*.mp4\"))\n",
    "\n",
    "files = sorted(files)\n",
    "\n",
    "df[\"audio_file\"] = files\n",
    "df[\"rgb_view1\"] = files_view1\n",
    "df[\"rgb_view2\"] = files_view2\n",
    "df[\"rgb_view3\"] = files_view3\n",
    "df[\"rgb_view4\"] = files_view4\n",
    "\n",
    "df = df.drop(index=377)\n",
    "print(df.shape)\n",
    "df.head()"
   ]
  },
  {
   "cell_type": "code",
   "execution_count": null,
   "id": "c10d8f07",
   "metadata": {},
   "outputs": [],
   "source": [
    "df = df.sort_values(\"container id\")\n",
    "\n",
    "# 列名 の変更\n",
    "columns = [\"id\", \"container_id\", \"scenario\", \"background\", \"illumination\", \"width_at_the_top\", \"width_at_the_bottom\", \\\n",
    "    \"height\", \"depth\", \"container_capacity\", \"container_mass\", \"filling_type\", \"filling_level\", \"filling_density\", \"filling_mass\", \\\n",
    "        \"object_mass\", \"handover_starting_frame\", \"handover_start_timestamp\", \"handover_hand\", \"audio_file\", \\\n",
    "            \"rgb_view1\", \"rgb_view2\", \"rgb_view3\", \"rgb_view4\"]\n",
    "df.columns = columns\n",
    "print(df.shape)\n",
    "df.head()"
   ]
  },
  {
   "cell_type": "markdown",
   "id": "3605ef5a",
   "metadata": {},
   "source": [
    "# filling type のデータの個数の可視化\n",
    "> id=0 : none  \n",
    "> id=1 : pasta  \n",
    "> id=2 : rice  \n",
    "> id=3 : water"
   ]
  },
  {
   "cell_type": "code",
   "execution_count": null,
   "id": "745bb3d0",
   "metadata": {},
   "outputs": [],
   "source": [
    "plt.title('Count by filling_type')\n",
    "df['filling_type'].value_counts().plot.bar()"
   ]
  },
  {
   "cell_type": "markdown",
   "id": "c4d7c2bf",
   "metadata": {},
   "source": [
    "# filling_levelごとのデータの個数の可視化\n",
    "> id=0 : empty(0%)  \n",
    "> id=1 : half-full(50%)  \n",
    "> id=2 : full(90%)"
   ]
  },
  {
   "cell_type": "code",
   "execution_count": null,
   "id": "3087a474",
   "metadata": {},
   "outputs": [],
   "source": [
    "df['filling_level'].value_counts().plot.bar()\n",
    "plt.title('Count by filling_level')"
   ]
  },
  {
   "cell_type": "code",
   "execution_count": null,
   "id": "f66ba250",
   "metadata": {},
   "outputs": [],
   "source": [
    "# # 移動前のフォルダのpath\n",
    "# DIR_BEFORE = \"./train/\"\n",
    "# # 移動後のファイルpath\n",
    "# DIR_AFTER = \"./data/\"\n",
    "\n",
    "# # 音声ファイルをフォルダへ移す\n",
    "# # フォルダの作成\n",
    "# for i in range(1, 10):\n",
    "#     os.makedirs(\"./data/{}/\".format(i), exist_ok=True)\n",
    "#     os.makedirs(f\"./data/{i}/audio\", exist_ok=True)\n",
    "#     os.makedirs(f\"./data/{i}/view1/rgb/\", exist_ok=True)\n",
    "#     os.makedirs(f\"./data/{i}/view2/rgb/\", exist_ok=True)\n",
    "#     os.makedirs(f\"./data/{i}/view3/rgb/\", exist_ok=True)\n",
    "#     os.makedirs(f\"./data/{i}/view4/rgb/\", exist_ok=True)\n",
    "\n",
    "# # 1行ずつ処理\n",
    "# for i in range(df.shape[0]):\n",
    "#     row = df.iloc[i, :]\n",
    "#     # 各ファイルの移動前のpath\n",
    "#     audio_b = row[\"audio_file\"]\n",
    "#     view1_b = row[\"rgb_view1\"]\n",
    "#     view2_b = row[\"rgb_view2\"]\n",
    "#     view3_b = row[\"rgb_view3\"]\n",
    "#     view4_b = row[\"rgb_view4\"]\n",
    "\n",
    "#     # 音声ファイルの名前の変更 \n",
    "#     s = row[\"scenario\"]\n",
    "#     fi = row[\"filling_type\"]\n",
    "#     fu = row[\"filling_level\"]\n",
    "#     b = row[\"background\"]\n",
    "#     l = row[\"illumination\"]\n",
    "#     c = 2\n",
    "#     # audio_af = f\"s{s}_fi{fi}_fu{fu}_b{b}_l{l}_c{c}_audio.wav\"\n",
    "#     audio_af = f\"s{s}_fi{fi}_fu{fu}_b{b}_l{l}_audio.wav\"\n",
    "#     os.rename(audio_b, DIR_BEFORE+\"audio/\"+audio_af)\n",
    "    \n",
    "#     # # 移動後のファイル名\n",
    "#     # view1_af = row[\"rgb_view1\"].split(\"/\")[-1]\n",
    "#     # view2_af = row[\"rgb_view2\"].split(\"/\")[-1]\n",
    "#     # view3_af = row[\"rgb_view3\"].split(\"/\")[-1]\n",
    "#     # view4_af = row[\"rgb_view4\"].split(\"/\")[-1]\n",
    "    \n",
    "#     # 移動後のファイルpath\n",
    "#     audio_bf = DIR_BEFORE + \"audio/\" + audio_af\n",
    "#     after_dir = DIR_AFTER+str(row[\"container_id\"])+\"/\"\n",
    "\n",
    "#     # 各ファイルを移動\n",
    "#     shutil.move(audio_bf, after_dir+\"audio/\")\n",
    "#     shutil.move(view1_b, after_dir+\"view1/rgb/\")\n",
    "#     shutil.move(view2_b, after_dir+\"view2/rgb/\")\n",
    "#     shutil.move(view3_b, after_dir+\"view3/rgb/\")\n",
    "#     shutil.move(view4_b, after_dir+\"view4/rgb/\")"
   ]
  },
  {
   "cell_type": "code",
   "execution_count": null,
   "id": "e061f76c",
   "metadata": {},
   "outputs": [],
   "source": [
    "columns = [\"folder_num\", \"num\", \"file_name\", \"subject\", \"filling_type\", \"filling_level\", \"back\", \"light\", \\\n",
    "    \"camera_id\", \"start\", \"end\"]\n",
    "df_csv = pd.DataFrame(index=None, columns=columns)\n",
    "\n",
    "row_temp = {\"folder_num\":[], \"num\":[], \"file_name\":[], \"subject\":[], \"filling_type\":[],\n",
    "                \"filling_level\":[], \"back\":[], \"light\":[], \"camera_id\":[], \"start\":[], \"end\":[]}\n",
    "\n",
    "# folder_numの設定\n",
    "for i in range(1, 10):\n",
    "    count = 0\n",
    "\n",
    "    for df_fol in df[df[\"container_id\"] == i].itertuples():\n",
    "        fname = f\"s{df_fol.scenario}_fi{df_fol.filling_type}_fu{df_fol.filling_level}\" + \\\n",
    "                f\"_b{df_fol.background}_l{df_fol.illumination}_c2\"\n",
    "        row_temp[\"folder_num\"].append(i)\n",
    "        row_temp[\"num\"].append(count)\n",
    "        row_temp[\"file_name\"].append(fname)\n",
    "        row_temp[\"subject\"].append(df_fol.scenario)\n",
    "        row_temp[\"filling_type\"].append(df_fol.filling_type)\n",
    "        row_temp[\"filling_level\"].append(df_fol.filling_level)\n",
    "        row_temp[\"back\"].append(df_fol.background)\n",
    "        row_temp[\"camera_id\"].append(2)\n",
    "        row_temp[\"light\"].append(df_fol.illumination)\n",
    "        row_temp[\"start\"].append(df_fol.handover_start_timestamp)\n",
    "        row_temp[\"end\"].append(-1)\n",
    "\n",
    "        count += 1\n",
    "\n",
    "df_csv = pd.concat([df_csv, pd.DataFrame.from_dict(row_temp)])\n",
    "\n",
    "print(df_csv.shape)\n",
    "df_csv.head()"
   ]
  },
  {
   "cell_type": "code",
   "execution_count": null,
   "id": "57553389",
   "metadata": {},
   "outputs": [],
   "source": [
    "df_sort = df_csv.sort_values([\"folder_num\", \"file_name\"])\n",
    "df_sort.head()"
   ]
  },
  {
   "cell_type": "code",
   "execution_count": null,
   "id": "9d0342fd",
   "metadata": {},
   "outputs": [],
   "source": [
    "df_by_fname = pd.DataFrame(index=None, columns=columns)\n",
    "for i in range(1, 10):\n",
    "    num = 0\n",
    "    df_by_folder = df_sort[df_sort[\"folder_num\"] == i]\n",
    "    for j in range(0, df_by_folder.shape[0]):\n",
    "        df_by_folder.iat[j, 1] = num\n",
    "        num += 1\n",
    "    df_by_fname = pd.concat([df_by_fname, df_by_folder], axis=0)\n",
    "df_by_fname.head()"
   ]
  },
  {
   "cell_type": "code",
   "execution_count": null,
   "id": "61c37e3e",
   "metadata": {},
   "outputs": [],
   "source": [
    "# # save csv file\n",
    "# df_by_fname.to_csv(\"annotations_sort.csv\", index=False)"
   ]
  },
  {
   "cell_type": "code",
   "execution_count": null,
   "id": "6c5c0001",
   "metadata": {},
   "outputs": [],
   "source": [
    "# # save csv file\n",
    "# df_csv.to_csv(\"annotations.csv\", index=False)"
   ]
  },
  {
   "cell_type": "code",
   "execution_count": null,
   "id": "65b3f7c2",
   "metadata": {},
   "outputs": [],
   "source": [
    "df[\"container_id\"].value_counts()"
   ]
  },
  {
   "cell_type": "code",
   "execution_count": null,
   "id": "f36c8d41",
   "metadata": {},
   "outputs": [],
   "source": [
    "df_sort[\"folder_num\"].value_counts()"
   ]
  },
  {
   "cell_type": "code",
   "execution_count": null,
   "id": "1749eabe",
   "metadata": {},
   "outputs": [],
   "source": [
    "\"\"\"\n",
    "# 移動前のフォルダのpath\n",
    "DIR_BEFORE = \"./train/\"\n",
    "# 移動後のファイルpath\n",
    "DIR_AFTER = \"./data/\"\n",
    "\n",
    "# 音声ファイルをフォルダへ移す\n",
    "# フォルダの作成\n",
    "for i in range(1, 10):\n",
    "    os.makedirs(\"./data/{}/\".format(i), exist_ok=True)\n",
    "    os.makedirs(f\"./data/{i}/audio\", exist_ok=True)\n",
    "    os.makedirs(f\"./data/{i}/view1/rgb/\", exist_ok=True)\n",
    "    os.makedirs(f\"./data/{i}/view2/rgb/\", exist_ok=True)\n",
    "    os.makedirs(f\"./data/{i}/view3/rgb/\", exist_ok=True)\n",
    "    os.makedirs(f\"./data/{i}/view4/rgb/\", exist_ok=True)\n",
    "\n",
    "# 1行ずつ処理\n",
    "for i in range(df.shape[0]):\n",
    "    row = df.iloc[i, :]\n",
    "    # 各ファイルの移動前のpath\n",
    "    audio_b = row[\"audio_file\"]\n",
    "    view1_b = row[\"rgb_view1\"]\n",
    "    view2_b = row[\"rgb_view2\"]\n",
    "    view3_b = row[\"rgb_view3\"]\n",
    "    view4_b = row[\"rgb_view4\"]\n",
    "\n",
    "    # 音声ファイルの名前の変更 \n",
    "    s = row[\"scenario\"]\n",
    "    fi = row[\"filling_type\"]\n",
    "    fu = row[\"filling_level\"]\n",
    "    b = row[\"background\"]\n",
    "    l = row[\"illumination\"]\n",
    "    c = 2\n",
    "    # audio_af = f\"s{s}_fi{fi}_fu{fu}_b{b}_l{l}_c{c}_audio.wav\"\n",
    "    audio_af = f\"s{s}_fi{fi}_fu{fu}_b{b}_l{l}_audio.wav\"\n",
    "    os.rename(audio_b, DIR_BEFORE+\"audio/\"+audio_af)\n",
    "\"\"\""
   ]
  },
  {
   "cell_type": "code",
   "execution_count": null,
   "id": "e9903542",
   "metadata": {},
   "outputs": [],
   "source": []
  }
 ],
 "metadata": {
  "kernelspec": {
   "display_name": "Python 3",
   "language": "python",
   "name": "python3"
  },
  "language_info": {
   "codemirror_mode": {
    "name": "ipython",
    "version": 3
   },
   "file_extension": ".py",
   "mimetype": "text/x-python",
   "name": "python",
   "nbconvert_exporter": "python",
   "pygments_lexer": "ipython3",
   "version": "3.8.8"
  }
 },
 "nbformat": 4,
 "nbformat_minor": 5
}
